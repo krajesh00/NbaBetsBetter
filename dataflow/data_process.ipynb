{
 "cells": [
  {
   "cell_type": "code",
   "execution_count": 2,
   "metadata": {},
   "outputs": [],
   "source": [
    "class initNBAData:\n",
    "    def __init__(self):\n",
    "        pass"
   ]
  },
  {
   "cell_type": "code",
   "execution_count": 7,
   "metadata": {},
   "outputs": [],
   "source": [
    "import pandas as pd\n",
    "nbaData = initNBAData()\n",
    "\n",
    "data_1 = pd.read_csv('/Users/kishoesanjay/Desktop/NbaBetsBetter/backend/2021_2022.csv')\n",
    "data_2 = pd.read_csv('/Users/kishoesanjay/Desktop/NbaBetsBetter/backend/2022_2023.csv')\n",
    "data_3 = pd.read_csv('/Users/kishoesanjay/Desktop/NbaBetsBetter/backend/2023_2024.csv')\n",
    "\n",
    "nbaData.__setattr__('data_1', data_1)\n",
    "nbaData.__setattr__('data_2', data_2)\n",
    "nbaData.__setattr__('data_3', data_3)\n",
    "\n",
    "nbaData.data_1['GAME_DATE'] = pd.to_datetime(nbaData.data_1['GAME_DATE'])\n",
    "nbaData.data_2['GAME_DATE'] = pd.to_datetime(nbaData.data_2['GAME_DATE'])\n",
    "nbaData.data_3['GAME_DATE'] = pd.to_datetime(nbaData.data_3['GAME_DATE'])\n",
    "\n",
    "# Sort the DataFrame by 'Date' column from latest to earliest\n",
    "nbaData.data_1 = nbaData.data_1.sort_values(by='GAME_DATE', ascending=False)\n",
    "nbaData.data_2 = nbaData.data_2.sort_values(by='GAME_DATE', ascending=False)\n",
    "nbaData.data_3 = nbaData.data_3.sort_values(by='GAME_DATE', ascending=False)\n"
   ]
  },
  {
   "cell_type": "code",
   "execution_count": 8,
   "metadata": {},
   "outputs": [],
   "source": [
    "columns_to_include = ['SEASON_YEAR', 'PLAYER_ID', 'PLAYER_NAME', 'TEAM_ID',\n",
    "       'TEAM_ABBREVIATION', 'TEAM_NAME', 'GAME_ID', 'GAME_DATE', 'MATCHUP',\n",
    "       'WL', 'MIN', 'FGM', 'FGA', 'FG_PCT', 'FG3M', 'FG3A', 'FG3_PCT', 'FTM',\n",
    "       'FTA', 'FT_PCT', 'OREB', 'DREB', 'REB', 'AST', 'TOV', 'STL', 'BLK',\n",
    "       'BLKA', 'PF', 'PFD', 'PTS']"
   ]
  },
  {
   "cell_type": "code",
   "execution_count": 9,
   "metadata": {},
   "outputs": [
    {
     "name": "stderr",
     "output_type": "stream",
     "text": [
      "/var/folders/5b/8x_l4hp10t122zvnxbzrwww40000gn/T/ipykernel_72102/3585340381.py:4: FutureWarning: The behavior of DataFrame concatenation with empty or all-NA entries is deprecated. In a future version, this will no longer exclude empty or all-NA columns when determining the result dtypes. To retain the old behavior, exclude the relevant entries before the concat operation.\n",
      "  all_dataFrame = pd.concat([all_dataFrame, data[columns_to_include]], ignore_index=True)\n"
     ]
    }
   ],
   "source": [
    "all_dataFrame = pd.DataFrame(columns=columns_to_include)\n",
    "for value in ['3', '2', '1']:\n",
    "    data = nbaData.__getattribute__('data_' + value)\n",
    "    all_dataFrame = pd.concat([all_dataFrame, data[columns_to_include]], ignore_index=True)\n",
    "\n"
   ]
  },
  {
   "cell_type": "code",
   "execution_count": 12,
   "metadata": {},
   "outputs": [
    {
     "data": {
      "text/plain": [
       "(78334, 31)"
      ]
     },
     "execution_count": 12,
     "metadata": {},
     "output_type": "execute_result"
    }
   ],
   "source": [
    "all_dataFrame.shape"
   ]
  },
  {
   "cell_type": "code",
   "execution_count": 13,
   "metadata": {},
   "outputs": [],
   "source": [
    "all_dataFrame.to_csv('/Users/kishoesanjay/Desktop/NbaBetsBetter/backend/all_data_logs.csv', index=False)"
   ]
  },
  {
   "cell_type": "code",
   "execution_count": 5,
   "metadata": {},
   "outputs": [
    {
     "name": "stdout",
     "output_type": "stream",
     "text": [
      "{'A.J. Lawson': [np.int64(1630639)], 'AJ Green': [np.int64(1631260)], 'AJ Griffin': [np.int64(1631100)], 'Aaron Gordon': [np.int64(203932)], 'Aaron Henry': [np.int64(1630565)], 'Aaron Holiday': [np.int64(1628988)], 'Aaron Nesmith': [np.int64(1630174)], 'Aaron Wiggins': [np.int64(1630598)], 'Abdel Nader': [np.int64(1627846)], 'Adam Flagler': [np.int64(1641745)], 'Adama Sanogo': [np.int64(1641766)], 'Ade Murkey': [np.int64(1630278)], 'Admiral Schofield': [np.int64(1629678)], 'Ahmad Caver': [np.int64(1629958)], 'Al Horford': [np.int64(201143)], 'Alec Burks': [np.int64(202692)], 'Aleem Ford': [np.int64(1630758)], 'Aleksej Pokusevski': [np.int64(1630197)], 'Alex Caruso': [np.int64(1627936)], 'Alex Fudge': [np.int64(1641788)], 'Alex Len': [np.int64(203458)], 'Alfonzo McKinnie': [np.int64(1628035)], 'Alize Johnson': [np.int64(1628993)], 'Alondes Williams': [np.int64(1631214)], 'Alperen Sengun': [np.int64(1630578)], 'Amari Bailey': [np.int64(1641735)], 'Amen Thompson': [np.int64(1641708)], 'Amir Coffey': [np.int64(1629599)], 'Andre Drummond': [np.int64(203083)], 'Andre Iguodala': [np.int64(2738)], 'Andre Jackson Jr.': [np.int64(1641748)], 'Andrew Funk': [np.int64(1641847)], 'Andrew Nembhard': [np.int64(1629614)], 'Andrew Wiggins': [np.int64(203952)], 'Anfernee Simons': [np.int64(1629014)], 'Anthony Black': [np.int64(1641710)], 'Anthony Davis': [np.int64(203076)], 'Anthony Edwards': [np.int64(1630162)], 'Anthony Gill': [np.int64(1630264)], 'Anthony Lamb': [np.int64(1630237)], 'Armoni Brooks': [np.int64(1629717)], 'Arnoldas Kulboka': [np.int64(1629083)], 'Ashton Hagans': [np.int64(1630204)], 'Ausar Thompson': [np.int64(1641709)], 'Austin Reaves': [np.int64(1630559)], 'Austin Rivers': [np.int64(203085)], 'Avery Bradley': [np.int64(202340)], 'Ayo Dosunmu': [np.int64(1630245)], 'BJ Johnson': [np.int64(1629168)], 'Bam Adebayo': [np.int64(1628389)], 'Ben McLemore': [np.int64(203463)], 'Ben Sheppard': [np.int64(1641767)], 'Ben Simmons': [np.int64(1627732)], 'Bennedict Mathurin': [np.int64(1631097)], 'Bilal Coulibaly': [np.int64(1641731)], 'Bismack Biyombo': [np.int64(202687)], 'Blake Griffin': [np.int64(201933)], 'Blake Wesley': [np.int64(1631104)], 'Boban Marjanovic': [np.int64(1626246)], 'Bobby Portis': [np.int64(1626171)], 'Bogdan Bogdanovic': [np.int64(203992)], 'Bojan Bogdanovic': [np.int64(202711)], 'Bol Bol': [np.int64(1629626)], 'Bones Hyland': [np.int64(1630538)], 'Brad Wanamaker': [np.int64(202954)], 'Bradley Beal': [np.int64(203078)], 'Brandin Podziemski': [np.int64(1641764)], 'Brandon Boston Jr.': [np.int64(1630527)], 'Brandon Clarke': [np.int64(1629634)], 'Brandon Goodwin': [np.int64(1629164)], 'Brandon Ingram': [np.int64(1627742)], 'Brandon Knight': [np.int64(202688)], 'Brandon Miller': [np.int64(1641706)], 'Brandon Williams': [np.int64(1630314)], 'Braxton Key': [np.int64(1630296)], 'Brice Sensabaugh': [np.int64(1641729)], 'Brodric Thomas': [np.int64(1630271)], 'Brook Lopez': [np.int64(201572)], 'Bruce Brown': [np.int64(1628971)], 'Bruno Fernando': [np.int64(1628981)], 'Bryce McGowens': [np.int64(1631121)], 'Bryn Forbes': [np.int64(1627854)], 'Buddy Boeheim': [np.int64(1631205)], 'Buddy Hield': [np.int64(1627741)], 'CJ Elleby': [np.int64(1629604)], 'CJ McCollum': [np.int64(203468)], 'CJ Miles': [np.int64(101139)], 'Cade Cunningham': [np.int64(1630595)], 'Caleb Houstan': [np.int64(1631216)], 'Caleb Martin': [np.int64(1628997)], 'Cam Reddish': [np.int64(1629629)], 'Cam Thomas': [np.int64(1630560)], 'Cam Whitmore': [np.int64(1641715)], 'Cameron Johnson': [np.int64(1629661)], 'Cameron McGriff': [np.int64(1630787)], 'Cameron Oliver': [np.int64(1628419)], 'Cameron Payne': [np.int64(1626166)], 'Caris LeVert': [np.int64(1627747)], 'Carlik Jones': [np.int64(1630637)], 'Carmelo Anthony': [np.int64(2546)], 'Carsen Edwards': [np.int64(1629035)], 'Cason Wallace': [np.int64(1641717)], 'Cassius Stanley': [np.int64(1630199)], 'Cassius Winston': [np.int64(1630216)], 'Cat Barber': [np.int64(1627760)], 'Cedi Osman': [np.int64(1626224)], 'Chance Comanche': [np.int64(1628435)], 'Chandler Hutchison': [np.int64(1628990)], 'Charles Bassey': [np.int64(1629646)], 'Charlie Brown Jr.': [np.int64(1629718)], 'Chaundee Brown Jr.': [np.int64(1630602)], 'Cheick Diallo': [np.int64(1627767)], 'Chet Holmgren': [np.int64(1631096)], 'Chima Moneke': [np.int64(1631320)], 'Chimezie Metu': [np.int64(1629002)], 'Chris Boucher': [np.int64(1628449)], 'Chris Chiozza': [np.int64(1629185)], 'Chris Duarte': [np.int64(1630537)], 'Chris Livingston': [np.int64(1641753)], 'Chris Paul': [np.int64(101108)], 'Chris Silva': [np.int64(1629735)], 'Christian Braun': [np.int64(1631128)], 'Christian Koloko': [np.int64(1631132)], 'Christian Wood': [np.int64(1626174)], 'Chuma Okeke': [np.int64(1629643)], 'Clint Capela': [np.int64(203991)], 'Coby White': [np.int64(1629632)], 'Cody Martin': [np.int64(1628998)], 'Cody Zeller': [np.int64(203469)], 'Colby Jones': [np.int64(1641732)], 'Cole Anthony': [np.int64(1630175)], 'Cole Swider': [np.int64(1631306)], 'Colin Castleton': [np.int64(1630658)], 'Collin Gillespie': [np.int64(1631221)], 'Collin Sexton': [np.int64(1629012)], 'Corey Kispert': [np.int64(1630557)], 'Cory Joseph': [np.int64(202709)], 'Craig Porter Jr.': [np.int64(1641854)], 'Craig Sword': [np.int64(1628591)], \"D'Angelo Russell\": [np.int64(1626156)], \"D'Moi Hodge\": [np.int64(1641793)], 'D.J. Augustin': [np.int64(201571)], 'D.J. Carton': [np.int64(1630618)], 'D.J. Wilson': [np.int64(1628391)], 'DaQuan Jeffries': [np.int64(1629610)], 'Daishen Nix': [np.int64(1630227)], 'Dakota Mathias': [np.int64(1629751)], 'Dalano Banton': [np.int64(1630625)], 'Dalen Terry': [np.int64(1631207)], 'Damian Jones': [np.int64(1627745)], 'Damian Lillard': [np.int64(203081)], 'Damion Lee': [np.int64(1627814)], 'Damyean Dotson': [np.int64(1628422)], 'Daniel Gafford': [np.int64(1629655)], 'Daniel Oturu': [np.int64(1630187)], 'Daniel Theis': [np.int64(1628464)], 'Danilo Gallinari': [np.int64(201568)], 'Danny Green': [np.int64(201980)], 'Dante Exum': [np.int64(203957)], 'Danuel House Jr.': [np.int64(1627863)], 'Dario Saric': [np.int64(203967)], 'Dariq Whitehead': [np.int64(1641727)], 'Darius Bazley': [np.int64(1629647)], 'Darius Days': [np.int64(1630620)], 'Darius Garland': [np.int64(1629636)], 'Darren Collison': [np.int64(201954)], 'David Duke Jr.': [np.int64(1630561)], 'David Johnson': [np.int64(1630525)], 'David Nwaba': [np.int64(1628021)], 'David Roddy': [np.int64(1631223)], 'Davion Mitchell': [np.int64(1630558)], 'Davis Bertans': [np.int64(202722)], 'Davon Reed': [np.int64(1628432)], \"Day'Ron Sharpe\": [np.int64(1630549)], \"De'Aaron Fox\": [np.int64(1628368)], \"De'Andre Hunter\": [np.int64(1629631)], \"De'Anthony Melton\": [np.int64(1629001)], 'DeAndre Jordan': [np.int64(201599)], \"DeAndre' Bembry\": [np.int64(1627761)], 'DeJon Jarreau': [np.int64(1630610)], 'DeMar DeRozan': [np.int64(201942)], 'DeMarcus Cousins': [np.int64(202326)], 'Dean Wade': [np.int64(1629731)], 'Deandre Ayton': [np.int64(1629028)], 'Deividas Sirvydis': [np.int64(1629686)], 'Dejounte Murray': [np.int64(1627749)], 'Delon Wright': [np.int64(1626153)], 'Deni Avdija': [np.int64(1630166)], 'Dennis Schroder': [np.int64(203471)], 'Dennis Smith Jr.': [np.int64(1628372)], 'Denzel Valentine': [np.int64(1627756)], 'Deonte Burton': [np.int64(1629126)], 'Dereck Lively II': [np.int64(1641726)], 'Dereon Seabron': [np.int64(1631220)], 'Derrick Favors': [np.int64(202324)], 'Derrick Jones Jr.': [np.int64(1627884)], 'Derrick Rose': [np.int64(201565)], 'Derrick Walton Jr.': [np.int64(1628476)], 'Derrick White': [np.int64(1628401)], 'Desmond Bane': [np.int64(1630217)], 'Devin Booker': [np.int64(1626164)], 'Devin Cannady': [np.int64(1629962)], 'Devin Vassell': [np.int64(1630170)], 'Devon Dotson': [np.int64(1629653)], 'Devontae Cacok': [np.int64(1629719)], \"Devonte' Graham\": [np.int64(1628984)], 'Dewayne Dedmon': [np.int64(203473)], 'Dexter Dennis': [np.int64(1641926)], 'Didi Louzada': [np.int64(1629712)], 'Dillon Brooks': [np.int64(1628415)], 'Dmytro Skapintsev': [np.int64(1631376)], 'Domantas Sabonis': [np.int64(1627734)], 'Dominick Barlow': [np.int64(1631230)], 'Donovan Mitchell': [np.int64(1628378)], 'Donovan Williams': [np.int64(1631495)], 'Donte DiVincenzo': [np.int64(1628978)], 'Dorian Finney-Smith': [np.int64(1627827)], 'Doug McDermott': [np.int64(203926)], 'Draymond Green': [np.int64(203110)], 'Drew Eubanks': [np.int64(1629234)], 'Drew Peterson': [np.int64(1641809)], 'Dru Smith': [np.int64(1630696)], 'Duane Washington Jr.': [np.int64(1630613)], 'Duncan Robinson': [np.int64(1629130)], 'Duop Reath': [np.int64(1641871)], 'Dwight Howard': [np.int64(2730)], 'Dwight Powell': [np.int64(203939)], 'Dylan Windler': [np.int64(1629685)], 'Dyson Daniels': [np.int64(1630700)], 'E.J. Liddell': [np.int64(1630604)], 'Ed Davis': [np.int64(202334)], 'Edmond Sumner': [np.int64(1628410)], 'Elfrid Payton': [np.int64(203901)], 'Elijah Hughes': [np.int64(1630190)], 'Emanuel Terry': [np.int64(1629150)], 'Emmanuel Mudiay': [np.int64(1626144)], 'Emoni Bates': [np.int64(1641734)], 'Enes Freedom': [np.int64(202683)], 'Eric Bledsoe': [np.int64(202339)], 'Eric Gordon': [np.int64(201569)], 'Eric Paschall': [np.int64(1629672)], 'Eugene Omoruyi': [np.int64(1630647)], 'Evan Fournier': [np.int64(203095)], 'Evan Mobley': [np.int64(1630596)], 'Facundo Campazzo': [np.int64(1630267)], 'Feron Hunt': [np.int64(1630624)], 'Filip Petrusev': [np.int64(1630196)], 'Frank Jackson': [np.int64(1628402)], 'Frank Kaminsky': [np.int64(1626163)], 'Frank Ntilikina': [np.int64(1628373)], 'Franz Wagner': [np.int64(1630532)], 'Fred VanVleet': [np.int64(1627832)], 'Freddie Gillespie': [np.int64(1630273)], 'Furkan Korkmaz': [np.int64(1627788)], 'GG Jackson': [np.int64(1641713)], 'Gabe Vincent': [np.int64(1629216)], 'Gabe York': [np.int64(1628221)], 'Gabriel Deck': [np.int64(1630466)], 'Gabriel Lundberg': [np.int64(1630994)], 'Garrett Temple': [np.int64(202066)], 'Garrison Mathews': [np.int64(1629726)], 'Gary Clark': [np.int64(1629109)], 'Gary Harris': [np.int64(203914)], 'Gary Payton II': [np.int64(1627780)], 'Gary Trent Jr.': [np.int64(1629018)], 'George Hill': [np.int64(201588)], 'George King': [np.int64(1628994)], 'Georges Niang': [np.int64(1627777)], 'Georgios Kalaitzakis': [np.int64(1630686)], 'Giannis Antetokounmpo': [np.int64(203507)], 'Goga Bitadze': [np.int64(1629048)], 'Goran Dragic': [np.int64(201609)], 'Gordon Hayward': [np.int64(202330)], 'Gorgui Dieng': [np.int64(203476)], 'Gradey Dick': [np.int64(1641711)], 'Grant Williams': [np.int64(1629684)], 'Grayson Allen': [np.int64(1628960)], 'Greg Brown III': [np.int64(1630535)], 'Greg Monroe': [np.int64(202328)], 'Gui Santos': [np.int64(1630611)], 'Hamidou Diallo': [np.int64(1628977)], 'Harrison Barnes': [np.int64(203084)], 'Harry Giles III': [np.int64(1628385)], 'Hassan Whiteside': [np.int64(202355)], 'Hassani Gravett': [np.int64(1629755)], 'Haywood Highsmith': [np.int64(1629312)], 'Henri Drell': [np.int64(1630929)], 'Herbert Jones': [np.int64(1630529)], 'Hunter Tyson': [np.int64(1641816)], 'Ibou Badji': [np.int64(1630641)], 'Ignas Brazdeikis': [np.int64(1629649)], 'Immanuel Quickley': [np.int64(1630193)], 'Isaac Bonga': [np.int64(1629067)], 'Isaac Okoro': [np.int64(1630171)], 'Isaiah Hartenstein': [np.int64(1628392)], 'Isaiah Jackson': [np.int64(1630543)], 'Isaiah Joe': [np.int64(1630198)], 'Isaiah Livers': [np.int64(1630587)], 'Isaiah Mobley': [np.int64(1630600)], 'Isaiah Roby': [np.int64(1629676)], 'Isaiah Stewart': [np.int64(1630191)], 'Isaiah Thomas': [np.int64(202738)], 'Isaiah Todd': [np.int64(1630225)], 'Isaiah Wong': [np.int64(1631209)], 'Ish Smith': [np.int64(202397)], 'Ish Wainright': [np.int64(1630688)], 'Ivica Zubac': [np.int64(1627826)], 'Izaiah Brockington': [np.int64(1631167)], 'JD Davison': [np.int64(1631120)], 'JT Thor': [np.int64(1630550)], 'Ja Morant': [np.int64(1629630)], 'JaMychal Green': [np.int64(203210)], 'JaQuori McLaughlin': [np.int64(1630605)], 'JaVale McGee': [np.int64(201580)], 'Jabari Parker': [np.int64(203953)], 'Jabari Smith Jr.': [np.int64(1631095)], 'Jabari Walker': [np.int64(1631133)], 'Jack White': [np.int64(1631298)], 'Jacob Gilyard': [np.int64(1631367)], 'Jacob Toppin': [np.int64(1631210)], 'Jaden Hardy': [np.int64(1630702)], 'Jaden Ivey': [np.int64(1631093)], 'Jaden McDaniels': [np.int64(1630183)], 'Jaden Springer': [np.int64(1630531)], 'Jae Crowder': [np.int64(203109)], \"Jae'Sean Tate\": [np.int64(1630256)], \"Jahmi'us Ramsey\": [np.int64(1630186)], 'Jaime Echenique': [np.int64(1630693)], 'Jaime Jaquez Jr.': [np.int64(1631170)], 'Jake LaRavia': [np.int64(1631222)], 'Jake Layman': [np.int64(1627774)], 'Jakob Poeltl': [np.int64(1627751)], 'Jalen Brunson': [np.int64(1628973)], 'Jalen Crutcher': [np.int64(1630622)], 'Jalen Duren': [np.int64(1631105)], 'Jalen Green': [np.int64(1630224)], 'Jalen Hood-Schifino': [np.int64(1641720)], 'Jalen Johnson': [np.int64(1630552)], 'Jalen McDaniels': [np.int64(1629667)], 'Jalen Pickett': [np.int64(1629618)], 'Jalen Slawson': [np.int64(1641771)], 'Jalen Smith': [np.int64(1630188)], 'Jalen Suggs': [np.int64(1630591)], 'Jalen Williams': [np.int64(1631114)], 'Jalen Wilson': [np.int64(1630592)], 'Jamal Cain': [np.int64(1631288)], 'Jamal Murray': [np.int64(1627750)], 'Jamaree Bouyea': [np.int64(1631123)], 'James Bouknight': [np.int64(1630547)], 'James Ennis III': [np.int64(203516)], 'James Harden': [np.int64(201935)], 'James Johnson': [np.int64(201949)], 'James Wiseman': [np.int64(1630164)], 'Jamorko Pickett': [np.int64(1630691)], 'Jarace Walker': [np.int64(1641716)], 'Jared Butler': [np.int64(1630215)], 'Jared Harper': [np.int64(1629607)], 'Jared Rhoden': [np.int64(1631197)], 'Jaren Jackson Jr.': [np.int64(1628991)], 'Jarred Vanderbilt': [np.int64(1629020)], 'Jarrell Brantley': [np.int64(1629714)], 'Jarrett Allen': [np.int64(1628386)], 'Jarrett Culver': [np.int64(1629633)], 'Jarron Cumberland': [np.int64(1629600)], 'Jason Preston': [np.int64(1630554)], 'Javin DeLaurier': [np.int64(1629602)], 'Javon Freeman-Liberty': [np.int64(1631241)], 'Javonte Green': [np.int64(1629750)], 'Javonte Smart': [np.int64(1630606)], 'Jaxson Hayes': [np.int64(1629637)], 'Jay Huff': [np.int64(1630643)], 'Jay Scrubb': [np.int64(1630206)], 'Jaylen Brown': [np.int64(1627759)], 'Jaylen Hoard': [np.int64(1629658)], 'Jaylen Morris': [np.int64(1628537)], 'Jaylen Nowell': [np.int64(1629669)], 'Jaylin Williams': [np.int64(1631119)], 'Jaysean Paige': [np.int64(1629873)], 'Jayson Tatum': [np.int64(1628369)], 'Jeff Dowtin Jr.': [np.int64(1630288)], 'Jeff Green': [np.int64(201145)], 'Jemerrio Jones': [np.int64(1629203)], 'Jerami Grant': [np.int64(203924)], 'Jeremiah Robinson-Earl': [np.int64(1630526)], 'Jeremy Lamb': [np.int64(203087)], 'Jeremy Sochan': [np.int64(1631110)], 'Jericho Sims': [np.int64(1630579)], 'Jermaine Samuels Jr.': [np.int64(1631257)], 'Jerome Robinson': [np.int64(1629010)], 'Jett Howard': [np.int64(1641724)], 'Jevon Carter': [np.int64(1628975)], 'Jimmy Butler': [np.int64(202710)], 'Jock Landale': [np.int64(1629111)], 'Joe Harris': [np.int64(203925)], 'Joe Ingles': [np.int64(204060)], 'Joe Johnson': [np.int64(2207)], 'Joe Wieskamp': [np.int64(1630580)], 'Joel Ayayi': [np.int64(1630555)], 'Joel Embiid': [np.int64(203954)], 'John Butler Jr.': [np.int64(1631219)], 'John Collins': [np.int64(1628381)], 'John Konchar': [np.int64(1629723)], 'John Wall': [np.int64(202322)], 'Johnny Davis': [np.int64(1631098)], 'Johnny Juzang': [np.int64(1630548)], 'Jon Teske': [np.int64(1630257)], 'Jonas Valanciunas': [np.int64(202685)], 'Jonathan Isaac': [np.int64(1628371)], 'Jonathan Kuminga': [np.int64(1630228)], 'Jontay Porter': [np.int64(1629007)], 'Jordan Bell': [np.int64(1628395)], 'Jordan Clarkson': [np.int64(203903)], 'Jordan Ford': [np.int64(1630259)], 'Jordan Goodwin': [np.int64(1630692)], 'Jordan Hall': [np.int64(1631160)], 'Jordan Hawkins': [np.int64(1641722)], 'Jordan McLaughlin': [np.int64(1629162)], 'Jordan Miller': [np.int64(1641757)], 'Jordan Nwora': [np.int64(1629670)], 'Jordan Poole': [np.int64(1629673)], 'Jordan Schakel': [np.int64(1630648)], 'Jordan Walsh': [np.int64(1641775)], 'Jose Alvarado': [np.int64(1630631)], 'Josh Christopher': [np.int64(1630528)], 'Josh Giddey': [np.int64(1630581)], 'Josh Green': [np.int64(1630182)], 'Josh Hart': [np.int64(1628404)], 'Josh Jackson': [np.int64(1628367)], 'Josh Minott': [np.int64(1631169)], 'Josh Okogie': [np.int64(1629006)], 'Josh Richardson': [np.int64(1626196)], 'Joshua Primo': [np.int64(1630563)], 'Jrue Holiday': [np.int64(201950)], 'Juan Toscano-Anderson': [np.int64(1629308)], 'Juancho Hernangomez': [np.int64(1627823)], 'Jules Bernard': [np.int64(1631262)], 'Julian Champagnie': [np.int64(1630577)], 'Julian Phillips': [np.int64(1641763)], 'Julian Strawther': [np.int64(1631124)], 'Julius Randle': [np.int64(203944)], 'Justin Anderson': [np.int64(1626147)], 'Justin Champagnie': [np.int64(1630551)], 'Justin Holiday': [np.int64(203200)], 'Justin Jackson': [np.int64(1628382)], 'Justin Minaya': [np.int64(1631303)], 'Justin Robinson': [np.int64(1629620)], 'Justise Winslow': [np.int64(1626159)], 'Jusuf Nurkic': [np.int64(203994)], 'Juwan Morgan': [np.int64(1629752)], 'KJ Martin': [np.int64(1630231)], 'KZ Okpala': [np.int64(1629644)], 'Kai Jones': [np.int64(1630539)], 'Kaiser Gates': [np.int64(1629232)], 'Karl-Anthony Towns': [np.int64(1626157)], 'Kawhi Leonard': [np.int64(202695)], 'Keegan Murray': [np.int64(1631099)], 'Keifer Sykes': [np.int64(1626208)], 'Keita Bates-Diop': [np.int64(1628966)], 'Kelan Martin': [np.int64(1629103)], 'Keldon Johnson': [np.int64(1629640)], 'Keljin Blevins': [np.int64(1629833)], 'Kelly Olynyk': [np.int64(203482)], 'Kelly Oubre Jr.': [np.int64(1626162)], 'Kemba Walker': [np.int64(202689)], 'Kendall Brown': [np.int64(1631112)], 'Kendrick Nunn': [np.int64(1629134)], 'Kennedy Chandler': [np.int64(1631113)], 'Kenneth Lofton Jr.': [np.int64(1631254)], 'Kenrich Williams': [np.int64(1629026)], 'Kent Bazemore': [np.int64(203145)], 'Kentavious Caldwell-Pope': [np.int64(203484)], 'Keon Ellis': [np.int64(1631165)], 'Keon Johnson': [np.int64(1630553)], 'Kessler Edwards': [np.int64(1630556)], 'Kevin Durant': [np.int64(201142)], 'Kevin Huerter': [np.int64(1628989)], 'Kevin Knox II': [np.int64(1628995)], 'Kevin Love': [np.int64(201567)], 'Kevin Pangos': [np.int64(1630698)], 'Kevin Porter Jr.': [np.int64(1629645)], 'Kevon Harris': [np.int64(1630284)], 'Kevon Looney': [np.int64(1626172)], 'Keyontae Johnson': [np.int64(1641749)], 'Keyonte George': [np.int64(1641718)], 'Khem Birch': [np.int64(203920)], 'Khris Middleton': [np.int64(203114)], 'Killian Hayes': [np.int64(1630165)], 'Killian Tillie': [np.int64(1629681)], 'Kira Lewis Jr.': [np.int64(1630184)], 'Klay Thompson': [np.int64(202691)], 'Kobe Brown': [np.int64(1641738)], 'Kobe Bufkin': [np.int64(1641723)], 'Kobi Simmons': [np.int64(1628424)], 'Kris Dunn': [np.int64(1627739)], 'Kris Murray': [np.int64(1631200)], 'Kristaps Porzingis': [np.int64(204001)], 'Kyle Anderson': [np.int64(203937)], 'Kyle Guy': [np.int64(1629657)], 'Kyle Kuzma': [np.int64(1628398)], 'Kyle Lowry': [np.int64(200768)], 'Kyrie Irving': [np.int64(202681)], 'LaMarcus Aldridge': [np.int64(200746)], 'LaMelo Ball': [np.int64(1630163)], 'Lamar Stevens': [np.int64(1630205)], 'Lance Stephenson': [np.int64(202362)], 'Landry Shamet': [np.int64(1629013)], 'Langston Galloway': [np.int64(204038)], 'Larry Nance Jr.': [np.int64(1626204)], 'Lauri Markkanen': [np.int64(1628374)], 'LeBron James': [np.int64(2544)], 'Leaky Black': [np.int64(1641778)], 'Leandro Bolmaro': [np.int64(1630195)], 'Leonard Miller': [np.int64(1631159)], 'Lester Quinones': [np.int64(1631311)], 'Lindell Wigginton': [np.int64(1629623)], 'Lindy Waters III': [np.int64(1630322)], 'Lonnie Walker IV': [np.int64(1629022)], 'Lonzo Ball': [np.int64(1628366)], 'Lou Williams': [np.int64(101150)], 'Louis King': [np.int64(1629663)], 'Luguentz Dort': [np.int64(1629652)], 'Luka Doncic': [np.int64(1629029)], 'Luka Garza': [np.int64(1630568)], 'Luka Samanic': [np.int64(1629677)], 'Luke Kennard': [np.int64(1628379)], 'Luke Kornet': [np.int64(1628436)], 'MJ Walker': [np.int64(1630640)], 'Mac McClung': [np.int64(1630644)], 'Malachi Flynn': [np.int64(1630201)], 'Malaki Branham': [np.int64(1631103)], 'Malcolm Brogdon': [np.int64(1627763)], 'Malcolm Cazalon': [np.int64(1630608)], 'Malcolm Hill': [np.int64(1630792)], 'Malik Beasley': [np.int64(1627736)], 'Malik Fitts': [np.int64(1630238)], 'Malik Monk': [np.int64(1628370)], 'Malik Newman': [np.int64(1629005)], 'Malik Williams': [np.int64(1642013)], 'Mamadi Diakite': [np.int64(1629603)], 'Maozinha Pereira': [np.int64(1641970)], 'MarJon Beauchamp': [np.int64(1630699)], 'Marcus Garrett': [np.int64(1630585)], 'Marcus Morris Sr.': [np.int64(202694)], 'Marcus Sasser': [np.int64(1631204)], 'Marcus Smart': [np.int64(203935)], 'Mark Williams': [np.int64(1631109)], 'Markelle Fultz': [np.int64(1628365)], 'Markieff Morris': [np.int64(202693)], 'Marko Simonovic': [np.int64(1630250)], 'Markquis Nowell': [np.int64(1641806)], 'Markus Howard': [np.int64(1630210)], 'Marques Bolden': [np.int64(1629716)], 'Marquese Chriss': [np.int64(1627737)], 'Marvin Bagley III': [np.int64(1628963)], 'Mason Jones': [np.int64(1630222)], 'Mason Plumlee': [np.int64(203486)], 'Matisse Thybulle': [np.int64(1629680)], 'Matt Hurt': [np.int64(1630562)], 'Matt Mooney': [np.int64(1629760)], 'Matt Ryan': [np.int64(1630346)], 'Matt Thomas': [np.int64(1629744)], 'Matthew Dellavedova': [np.int64(203521)], 'Maurice Harkless': [np.int64(203090)], 'Max Christie': [np.int64(1631108)], 'Max Strus': [np.int64(1629622)], 'Maxi Kleber': [np.int64(1628467)], 'Maxwell Lewis': [np.int64(1641721)], 'McKinley Wright IV': [np.int64(1630593)], 'Melvin Frazier Jr.': [np.int64(1628982)], 'Meyers Leonard': [np.int64(203086)], 'Mfiondu Kabengele': [np.int64(1629662)], 'Micah Potter': [np.int64(1630695)], 'Michael Carter-Williams': [np.int64(203487)], 'Michael Foster Jr.': [np.int64(1630701)], 'Michael Porter Jr.': [np.int64(1629008)], 'Mikal Bridges': [np.int64(1628969)], 'Mike Conley': [np.int64(201144)], 'Mike Muscala': [np.int64(203488)], 'Miles Bridges': [np.int64(1628970)], 'Miles McBride': [np.int64(1630540)], 'Mitchell Robinson': [np.int64(1629011)], 'Miye Oni': [np.int64(1629671)], 'Mo Bamba': [np.int64(1628964)], 'Monte Morris': [np.int64(1628420)], 'Montrezl Harrell': [np.int64(1626149)], 'Moritz Wagner': [np.int64(1629021)], 'Moses Brown': [np.int64(1629650)], 'Moses Moody': [np.int64(1630541)], 'Moses Wright': [np.int64(1630589)], 'Mouhamadou Gueye': [np.int64(1631338)], 'Mouhamed Gueye': [np.int64(1631243)], 'Moussa Diabate': [np.int64(1631217)], 'Mychal Mulder': [np.int64(1628539)], 'Myles Powell': [np.int64(1629619)], 'Myles Turner': [np.int64(1626167)], 'Naji Marshall': [np.int64(1630230)], 'Nassir Little': [np.int64(1629642)], 'Nate Hinton': [np.int64(1630207)], 'Nate Williams': [np.int64(1631466)], 'Nathan Knight': [np.int64(1630233)], 'Nathan Mensah': [np.int64(1641877)], 'Naz Reid': [np.int64(1629675)], 'Neemias Queta': [np.int64(1629674)], 'Nemanja Bjelica': [np.int64(202357)], 'Nerlens Noel': [np.int64(203457)], 'Nic Claxton': [np.int64(1629651)], 'Nick Richards': [np.int64(1630208)], 'Nick Smith Jr.': [np.int64(1641733)], 'Nickeil Alexander-Walker': [np.int64(1629638)], 'Nicolas Batum': [np.int64(201587)], 'Nik Stauskas': [np.int64(203917)], 'Nikola Jokic': [np.int64(203999)], 'Nikola Jovic': [np.int64(1631107)], 'Nikola Vucevic': [np.int64(202696)], 'Noah Clowney': [np.int64(1641730)], 'Noah Vonleh': [np.int64(203943)], 'Norman Powell': [np.int64(1626181)], 'Norvel Pelle': [np.int64(203658)], 'OG Anunoby': [np.int64(1628384)], 'Obi Toppin': [np.int64(1630167)], 'Ochai Agbaji': [np.int64(1630534)], 'Olivier Sarr': [np.int64(1630846)], 'Olivier-Maxence Prosper': [np.int64(1641765)], 'Omer Yurtseven': [np.int64(1630209)], 'Onuralp Bitim': [np.int64(1641931)], 'Onyeka Okongwu': [np.int64(1630168)], 'Orlando Robinson': [np.int64(1631115)], 'Oscar Tshiebwe': [np.int64(1631131)], 'Oshae Brissett': [np.int64(1629052)], 'Otto Porter Jr.': [np.int64(203490)], 'Ousmane Dieng': [np.int64(1631172)], 'P.J. Tucker': [np.int64(200782)], 'P.J. Washington': [np.int64(1629023)], 'PJ Dozier': [np.int64(1628408)], 'Paolo Banchero': [np.int64(1631094)], 'Paris Bass': [np.int64(1628238)], 'Pascal Siakam': [np.int64(1627783)], 'Pat Connaughton': [np.int64(1626192)], 'Pat Spencer': [np.int64(1630311)], 'Patrick Baldwin Jr.': [np.int64(1631116)], 'Patrick Beverley': [np.int64(201976)], 'Patrick Williams': [np.int64(1630172)], 'Patty Mills': [np.int64(201988)], 'Paul George': [np.int64(202331)], 'Paul Millsap': [np.int64(200794)], 'Paul Reed': [np.int64(1630194)], 'Paul Watson': [np.int64(1628778)], 'Payton Pritchard': [np.int64(1630202)], 'Pete Nance': [np.int64(1631250)], 'Petr Cornelie': [np.int64(1627822)], 'Peyton Watson': [np.int64(1631212)], 'Precious Achiuwa': [np.int64(1630173)], 'Quentin Grimes': [np.int64(1629656)], 'Quenton Jackson': [np.int64(1631245)], 'Quinndary Weatherspoon': [np.int64(1629683)], 'R.J. Hampton': [np.int64(1630181)], 'RJ Barrett': [np.int64(1629628)], 'RJ Nembhard Jr.': [np.int64(1630612)], 'RaiQuan Gray': [np.int64(1630564)], 'Rajon Rondo': [np.int64(200765)], 'Raul Neto': [np.int64(203526)], 'Rayan Rupert': [np.int64(1641712)], 'Rayjon Tucker': [np.int64(1629730)], 'Reggie Bullock Jr.': [np.int64(203493)], 'Reggie Jackson': [np.int64(202704)], 'Reggie Perry': [np.int64(1629617)], 'Richaun Holmes': [np.int64(1626158)], 'Ricky Council IV': [np.int64(1641741)], 'Ricky Rubio': [np.int64(201937)], 'Rob Edwards': [np.int64(1630306)], 'Robert Covington': [np.int64(203496)], 'Robert Williams III': [np.int64(1629057)], 'Robert Woodard II': [np.int64(1630218)], 'Robin Lopez': [np.int64(201577)], 'Rodney Hood': [np.int64(203918)], 'Rodney McGruder': [np.int64(203585)], 'Romeo Langford': [np.int64(1629641)], 'Ron Harper Jr.': [np.int64(1631199)], \"Royce O'Neale\": [np.int64(1626220)], 'Rudy Gay': [np.int64(200752)], 'Rudy Gobert': [np.int64(203497)], 'Rui Hachimura': [np.int64(1629060)], 'Russell Westbrook': [np.int64(201566)], 'Ryan Arcidiacono': [np.int64(1627853)], 'Ryan Rollins': [np.int64(1631157)], 'Saben Lee': [np.int64(1630240)], 'Saddiq Bey': [np.int64(1630180)], 'Sam Dekker': [np.int64(1626155)], 'Sam Hauser': [np.int64(1630573)], 'Sam Merrill': [np.int64(1630241)], 'Sandro Mamukelashvili': [np.int64(1630572)], 'Santi Aldama': [np.int64(1630583)], 'Sasha Vezenkov': [np.int64(1628426)], 'Scoot Henderson': [np.int64(1630703)], 'Scottie Barnes': [np.int64(1630567)], 'Scottie Lewis': [np.int64(1630575)], 'Scotty Hopson': [np.int64(203816)], 'Scotty Pippen Jr.': [np.int64(1630590)], 'Sekou Doumbouya': [np.int64(1629635)], 'Semi Ojeleye': [np.int64(1628400)], 'Serge Ibaka': [np.int64(201586)], 'Seth Curry': [np.int64(203552)], 'Seth Lundy': [np.int64(1641754)], 'Shaedon Sharpe': [np.int64(1631101)], 'Shai Gilgeous-Alexander': [np.int64(1628983)], 'Shake Milton': [np.int64(1629003)], 'Shaq Buchanan': [np.int64(1629783)], 'Shaquille Harrison': [np.int64(1627885)], 'Sharife Cooper': [np.int64(1630536)], 'Sidy Cissoko': [np.int64(1631321)], 'Simone Fontecchio': [np.int64(1631323)], 'Skylar Mays': [np.int64(1630219)], 'Solomon Hill': [np.int64(203524)], 'Spencer Dinwiddie': [np.int64(203915)], 'Stanley Johnson': [np.int64(1626169)], 'Stanley Umude': [np.int64(1630649)], 'Stephen Curry': [np.int64(201939)], 'Sterling Brown': [np.int64(1628425)], 'Steven Adams': [np.int64(203500)], 'Svi Mykhailiuk': [np.int64(1629004)], 'T.J. McConnell': [np.int64(204456)], 'T.J. Warren': [np.int64(203933)], 'Tacko Fall': [np.int64(1629605)], 'Taj Gibson': [np.int64(201959)], 'Talen Horton-Tucker': [np.int64(1629659)], 'Tari Eason': [np.int64(1631106)], 'Taurean Prince': [np.int64(1627752)], 'Taylor Hendricks': [np.int64(1641707)], 'Taze Moore': [np.int64(1631386)], 'Terance Mann': [np.int64(1629611)], 'Terence Davis': [np.int64(1629056)], 'Terquavion Smith': [np.int64(1631173)], 'Terrence Ross': [np.int64(203082)], 'Terry Rozier': [np.int64(1626179)], 'Terry Taylor': [np.int64(1630678)], 'Thaddeus Young': [np.int64(201152)], 'Thanasis Antetokounmpo': [np.int64(203648)], 'Theo Maledon': [np.int64(1630177)], 'Theo Pinson': [np.int64(1629033)], 'Thomas Bryant': [np.int64(1628418)], 'Tim Frazier': [np.int64(204025)], 'Tim Hardaway Jr.': [np.int64(203501)], 'Timmy Allen': [np.int64(1641851)], 'Timothe Luwawu-Cabarrot': [np.int64(1627789)], 'Tobias Harris': [np.int64(202699)], 'Tomas Satoransky': [np.int64(203107)], 'Tony Bradley': [np.int64(1628396)], 'Tony Snell': [np.int64(203503)], 'Torrey Craig': [np.int64(1628470)], 'Tosan Evbuomwan': [np.int64(1641787)], 'Toumani Camara': [np.int64(1641739)], 'Trae Young': [np.int64(1629027)], 'Trayce Jackson-Davis': [np.int64(1631218)], 'Trayvon Palmer': [np.int64(1629309)], 'Tre Jones': [np.int64(1630200)], 'Tre Mann': [np.int64(1630544)], 'Tremont Waters': [np.int64(1629682)], 'Trendon Watford': [np.int64(1630570)], 'Trent Forrest': [np.int64(1630235)], 'Trevelin Queen': [np.int64(1630243)], 'Trevon Scott': [np.int64(1630286)], 'Trevor Ariza': [np.int64(2772)], 'Trevor Hudgins': [np.int64(1631309)], 'Trevor Keels': [np.int64(1631211)], 'Trey Burke': [np.int64(203504)], 'Trey Jemison': [np.int64(1641998)], 'Trey Lyles': [np.int64(1626168)], 'Trey Murphy III': [np.int64(1630530)], 'Tristan Thompson': [np.int64(202684)], 'Tristan Vukcevic': [np.int64(1641774)], 'Troy Brown Jr.': [np.int64(1628972)], 'Ty Jerome': [np.int64(1629660)], 'TyTy Washington Jr.': [np.int64(1631102)], 'Tyler Cook': [np.int64(1629076)], 'Tyler Dorsey': [np.int64(1628416)], 'Tyler Hall': [np.int64(1629788)], 'Tyler Herro': [np.int64(1629639)], 'Tyler Johnson': [np.int64(204020)], 'Tyrell Terry': [np.int64(1630179)], 'Tyrese Haliburton': [np.int64(1630169)], 'Tyrese Martin': [np.int64(1631213)], 'Tyrese Maxey': [np.int64(1630178)], 'Tyrone Wallace': [np.int64(1627820)], 'Tyus Jones': [np.int64(1626145)], 'Udoka Azubuike': [np.int64(1628962)], 'Udonis Haslem': [np.int64(2617)], 'Usman Garuba': [np.int64(1630586)], 'Vasilije Micic': [np.int64(203995)], 'Vernon Carey Jr.': [np.int64(1630176)], 'Victor Oladipo': [np.int64(203506)], 'Victor Wembanyama': [np.int64(1641705)], 'Vince Williams Jr.': [np.int64(1631246)], 'Vit Krejci': [np.int64(1630249)], 'Vlatko Cancar': [np.int64(1628427)], 'Walker Kessler': [np.int64(1631117)], 'Wayne Ellington': [np.int64(201961)], 'Wayne Selden': [np.int64(1627782)], 'Wendell Carter Jr.': [np.int64(1628976)], 'Wendell Moore Jr.': [np.int64(1631111)], 'Wenyen Gabriel': [np.int64(1629117)], 'Wes Iwundu': [np.int64(1628411)], 'Wesley Matthews': [np.int64(202083)], 'Will Barton': [np.int64(203115)], 'Willie Cauley-Stein': [np.int64(1626161)], 'Willy Hernangomez': [np.int64(1626195)], 'Xavier Cooks': [np.int64(1641645)], 'Xavier Moon': [np.int64(1629875)], 'Xavier Sneed': [np.int64(1630270)], 'Xavier Tillman': [np.int64(1630214)], 'Yuta Watanabe': [np.int64(1629139)], 'Yves Pons': [np.int64(1630582)], 'Zach Collins': [np.int64(1628380)], 'Zach LaVine': [np.int64(203897)], 'Zavier Simpson': [np.int64(1630285)], 'Zeke Nnaji': [np.int64(1630192)], 'Ziaire Williams': [np.int64(1630533)], 'Zion Williamson': [np.int64(1629627)], 'Zylan Cheatham': [np.int64(1629597)]}\n"
     ]
    }
   ],
   "source": [
    "import pandas as pd\n",
    "all_data = pd.read_csv('/Users/kishoesanjay/Desktop/NbaBetsBetter/backend/all_data_logs.csv')\n",
    "\n",
    "player_id_map = all_data.groupby('PLAYER_NAME')['PLAYER_ID'].unique().apply(list).to_dict()"
   ]
  },
  {
   "cell_type": "code",
   "execution_count": 7,
   "metadata": {},
   "outputs": [],
   "source": [
    "player_df = pd.DataFrame(list(player_id_map.items()), columns=['PLAYER_NAME', 'PLAYER_ID'])\n",
    "player_df['PLAYER_ID'] = player_df['PLAYER_ID'].apply(lambda x: str(x[0]))"
   ]
  },
  {
   "cell_type": "code",
   "execution_count": 9,
   "metadata": {},
   "outputs": [],
   "source": [
    "player_id_map = pd.Series(player_df.PLAYER_ID.values, index=player_df.PLAYER_NAME).to_dict()"
   ]
  },
  {
   "cell_type": "code",
   "execution_count": 11,
   "metadata": {},
   "outputs": [],
   "source": [
    "import json\n",
    "import os\n",
    "\n",
    "with open('/Users/kishoesanjay/Desktop/NbaBetsBetter/backend/player_id_map.json', 'w') as f:\n",
    "    json.dump(player_id_map, f)"
   ]
  },
  {
   "cell_type": "code",
   "execution_count": 3,
   "metadata": {},
   "outputs": [
    {
     "data": {
      "text/html": [
       "<div>\n",
       "<style scoped>\n",
       "    .dataframe tbody tr th:only-of-type {\n",
       "        vertical-align: middle;\n",
       "    }\n",
       "\n",
       "    .dataframe tbody tr th {\n",
       "        vertical-align: top;\n",
       "    }\n",
       "\n",
       "    .dataframe thead th {\n",
       "        text-align: right;\n",
       "    }\n",
       "</style>\n",
       "<table border=\"1\" class=\"dataframe\">\n",
       "  <thead>\n",
       "    <tr style=\"text-align: right;\">\n",
       "      <th></th>\n",
       "      <th>PTS</th>\n",
       "      <th>GAME_DATE</th>\n",
       "    </tr>\n",
       "  </thead>\n",
       "  <tbody>\n",
       "    <tr>\n",
       "      <th>0</th>\n",
       "      <td>3</td>\n",
       "      <td>2024-04-14</td>\n",
       "    </tr>\n",
       "    <tr>\n",
       "      <th>1</th>\n",
       "      <td>0</td>\n",
       "      <td>2024-04-14</td>\n",
       "    </tr>\n",
       "    <tr>\n",
       "      <th>2</th>\n",
       "      <td>10</td>\n",
       "      <td>2024-04-14</td>\n",
       "    </tr>\n",
       "    <tr>\n",
       "      <th>3</th>\n",
       "      <td>0</td>\n",
       "      <td>2024-04-14</td>\n",
       "    </tr>\n",
       "    <tr>\n",
       "      <th>4</th>\n",
       "      <td>11</td>\n",
       "      <td>2024-04-14</td>\n",
       "    </tr>\n",
       "    <tr>\n",
       "      <th>...</th>\n",
       "      <td>...</td>\n",
       "      <td>...</td>\n",
       "    </tr>\n",
       "    <tr>\n",
       "      <th>78329</th>\n",
       "      <td>2</td>\n",
       "      <td>2021-10-19</td>\n",
       "    </tr>\n",
       "    <tr>\n",
       "      <th>78330</th>\n",
       "      <td>6</td>\n",
       "      <td>2021-10-19</td>\n",
       "    </tr>\n",
       "    <tr>\n",
       "      <th>78331</th>\n",
       "      <td>2</td>\n",
       "      <td>2021-10-19</td>\n",
       "    </tr>\n",
       "    <tr>\n",
       "      <th>78332</th>\n",
       "      <td>12</td>\n",
       "      <td>2021-10-19</td>\n",
       "    </tr>\n",
       "    <tr>\n",
       "      <th>78333</th>\n",
       "      <td>0</td>\n",
       "      <td>2021-10-19</td>\n",
       "    </tr>\n",
       "  </tbody>\n",
       "</table>\n",
       "<p>78334 rows × 2 columns</p>\n",
       "</div>"
      ],
      "text/plain": [
       "       PTS   GAME_DATE\n",
       "0        3  2024-04-14\n",
       "1        0  2024-04-14\n",
       "2       10  2024-04-14\n",
       "3        0  2024-04-14\n",
       "4       11  2024-04-14\n",
       "...    ...         ...\n",
       "78329    2  2021-10-19\n",
       "78330    6  2021-10-19\n",
       "78331    2  2021-10-19\n",
       "78332   12  2021-10-19\n",
       "78333    0  2021-10-19\n",
       "\n",
       "[78334 rows x 2 columns]"
      ]
     },
     "execution_count": 3,
     "metadata": {},
     "output_type": "execute_result"
    }
   ],
   "source": [
    "import pandas as pd\n",
    "\n",
    "all_data = pd.read_csv('/Users/kishoesanjay/Desktop/NbaBetsBetter/backend/all_data_logs.csv')\n",
    "all_data = all_data[['PTS', 'GAME_DATE']]\n",
    "\n",
    "all_data"
   ]
  }
 ],
 "metadata": {
  "kernelspec": {
   "display_name": "venv",
   "language": "python",
   "name": "python3"
  },
  "language_info": {
   "codemirror_mode": {
    "name": "ipython",
    "version": 3
   },
   "file_extension": ".py",
   "mimetype": "text/x-python",
   "name": "python",
   "nbconvert_exporter": "python",
   "pygments_lexer": "ipython3",
   "version": "3.11.4"
  }
 },
 "nbformat": 4,
 "nbformat_minor": 2
}
