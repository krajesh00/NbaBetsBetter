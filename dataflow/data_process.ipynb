{
 "cells": [
  {
   "cell_type": "code",
   "execution_count": 2,
   "metadata": {},
   "outputs": [],
   "source": [
    "class initNBAData:\n",
    "    def __init__(self):\n",
    "        pass"
   ]
  },
  {
   "cell_type": "code",
   "execution_count": 7,
   "metadata": {},
   "outputs": [],
   "source": [
    "import pandas as pd\n",
    "nbaData = initNBAData()\n",
    "\n",
    "data_1 = pd.read_csv('/Users/kishoesanjay/Desktop/NbaBetsBetter/backend/2021_2022.csv')\n",
    "data_2 = pd.read_csv('/Users/kishoesanjay/Desktop/NbaBetsBetter/backend/2022_2023.csv')\n",
    "data_3 = pd.read_csv('/Users/kishoesanjay/Desktop/NbaBetsBetter/backend/2023_2024.csv')\n",
    "\n",
    "nbaData.__setattr__('data_1', data_1)\n",
    "nbaData.__setattr__('data_2', data_2)\n",
    "nbaData.__setattr__('data_3', data_3)\n",
    "\n",
    "nbaData.data_1['GAME_DATE'] = pd.to_datetime(nbaData.data_1['GAME_DATE'])\n",
    "nbaData.data_2['GAME_DATE'] = pd.to_datetime(nbaData.data_2['GAME_DATE'])\n",
    "nbaData.data_3['GAME_DATE'] = pd.to_datetime(nbaData.data_3['GAME_DATE'])\n",
    "\n",
    "# Sort the DataFrame by 'Date' column from latest to earliest\n",
    "nbaData.data_1 = nbaData.data_1.sort_values(by='GAME_DATE', ascending=False)\n",
    "nbaData.data_2 = nbaData.data_2.sort_values(by='GAME_DATE', ascending=False)\n",
    "nbaData.data_3 = nbaData.data_3.sort_values(by='GAME_DATE', ascending=False)\n"
   ]
  },
  {
   "cell_type": "code",
   "execution_count": 8,
   "metadata": {},
   "outputs": [],
   "source": [
    "columns_to_include = ['SEASON_YEAR', 'PLAYER_ID', 'PLAYER_NAME', 'TEAM_ID',\n",
    "       'TEAM_ABBREVIATION', 'TEAM_NAME', 'GAME_ID', 'GAME_DATE', 'MATCHUP',\n",
    "       'WL', 'MIN', 'FGM', 'FGA', 'FG_PCT', 'FG3M', 'FG3A', 'FG3_PCT', 'FTM',\n",
    "       'FTA', 'FT_PCT', 'OREB', 'DREB', 'REB', 'AST', 'TOV', 'STL', 'BLK',\n",
    "       'BLKA', 'PF', 'PFD', 'PTS']"
   ]
  },
  {
   "cell_type": "code",
   "execution_count": 9,
   "metadata": {},
   "outputs": [
    {
     "name": "stderr",
     "output_type": "stream",
     "text": [
      "/var/folders/5b/8x_l4hp10t122zvnxbzrwww40000gn/T/ipykernel_72102/3585340381.py:4: FutureWarning: The behavior of DataFrame concatenation with empty or all-NA entries is deprecated. In a future version, this will no longer exclude empty or all-NA columns when determining the result dtypes. To retain the old behavior, exclude the relevant entries before the concat operation.\n",
      "  all_dataFrame = pd.concat([all_dataFrame, data[columns_to_include]], ignore_index=True)\n"
     ]
    }
   ],
   "source": [
    "all_dataFrame = pd.DataFrame(columns=columns_to_include)\n",
    "for value in ['3', '2', '1']:\n",
    "    data = nbaData.__getattribute__('data_' + value)\n",
    "    all_dataFrame = pd.concat([all_dataFrame, data[columns_to_include]], ignore_index=True)\n",
    "\n"
   ]
  },
  {
   "cell_type": "code",
   "execution_count": 12,
   "metadata": {},
   "outputs": [
    {
     "data": {
      "text/plain": [
       "(78334, 31)"
      ]
     },
     "execution_count": 12,
     "metadata": {},
     "output_type": "execute_result"
    }
   ],
   "source": [
    "all_dataFrame.shape"
   ]
  },
  {
   "cell_type": "code",
   "execution_count": 13,
   "metadata": {},
   "outputs": [],
   "source": [
    "all_dataFrame.to_csv('/Users/kishoesanjay/Desktop/NbaBetsBetter/backend/all_data_logs.csv', index=False)"
   ]
  }
 ],
 "metadata": {
  "kernelspec": {
   "display_name": "venv",
   "language": "python",
   "name": "python3"
  },
  "language_info": {
   "codemirror_mode": {
    "name": "ipython",
    "version": 3
   },
   "file_extension": ".py",
   "mimetype": "text/x-python",
   "name": "python",
   "nbconvert_exporter": "python",
   "pygments_lexer": "ipython3",
   "version": "3.11.4"
  }
 },
 "nbformat": 4,
 "nbformat_minor": 2
}
